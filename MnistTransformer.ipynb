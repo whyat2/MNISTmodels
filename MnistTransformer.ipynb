{
 "cells": [
  {
   "cell_type": "code",
   "execution_count": 1,
   "metadata": {
    "execution": {
     "iopub.execute_input": "2024-11-07T22:42:05.037137Z",
     "iopub.status.busy": "2024-11-07T22:42:05.036543Z",
     "iopub.status.idle": "2024-11-07T22:42:09.510661Z",
     "shell.execute_reply": "2024-11-07T22:42:09.509962Z",
     "shell.execute_reply.started": "2024-11-07T22:42:05.037110Z"
    }
   },
   "outputs": [
    {
     "name": "stderr",
     "output_type": "stream",
     "text": [
      "2024-11-07 22:42:05.512320: E external/local_xla/xla/stream_executor/cuda/cuda_dnn.cc:9261] Unable to register cuDNN factory: Attempting to register factory for plugin cuDNN when one has already been registered\n",
      "2024-11-07 22:42:05.512404: E external/local_xla/xla/stream_executor/cuda/cuda_fft.cc:607] Unable to register cuFFT factory: Attempting to register factory for plugin cuFFT when one has already been registered\n",
      "2024-11-07 22:42:05.513832: E external/local_xla/xla/stream_executor/cuda/cuda_blas.cc:1515] Unable to register cuBLAS factory: Attempting to register factory for plugin cuBLAS when one has already been registered\n",
      "2024-11-07 22:42:05.522687: I tensorflow/core/platform/cpu_feature_guard.cc:182] This TensorFlow binary is optimized to use available CPU instructions in performance-critical operations.\n",
      "To enable the following instructions: AVX2 FMA, in other operations, rebuild TensorFlow with the appropriate compiler flags.\n",
      "2024-11-07 22:42:06.798696: W tensorflow/compiler/tf2tensorrt/utils/py_utils.cc:38] TF-TRT Warning: Could not find TensorRT\n"
     ]
    }
   ],
   "source": [
    "import tensorflow as tf\n",
    "import numpy as np\n",
    "import keras\n",
    "import matplotlib.image as mpimg\n",
    "import matplotlib.pyplot as plt\n",
    "import keras.datasets as mnist\n",
    "import os\n",
    "\n"
   ]
  },
  {
   "cell_type": "code",
   "execution_count": 2,
   "metadata": {
    "execution": {
     "iopub.execute_input": "2024-11-07T22:42:09.512758Z",
     "iopub.status.busy": "2024-11-07T22:42:09.512290Z",
     "iopub.status.idle": "2024-11-07T22:42:09.518283Z",
     "shell.execute_reply": "2024-11-07T22:42:09.517369Z",
     "shell.execute_reply.started": "2024-11-07T22:42:09.512732Z"
    }
   },
   "outputs": [],
   "source": [
    "#Image Data Details\n",
    "IMAGE_SIZE = 28\n",
    "IMAGE_PATCH_SIZE = 14\n",
    "NUM_PATCHES = int((IMAGE_SIZE / IMAGE_PATCH_SIZE) ** 2)\n",
    "NUM_CLASSES = 10\n",
    "NUM_LAYERS = 1\n",
    "IMAGE_SHAPE = (IMAGE_SIZE, IMAGE_SIZE, NUM_LAYERS)\n",
    "\n",
    "#Transformer settings\n",
    "PROJECTION_HIDDEN_DIMENSIONS = int(98) #98 hidden dimensions when linear transforming for first time\n",
    "NUM_SELFATTENTION_HEADS = 4 #each multihead has 4 self attention layers\n",
    "TRANSFORMER_UNITS = [\n",
    "    PROJECTION_HIDDEN_DIMENSIONS * 2,\n",
    "    PROJECTION_HIDDEN_DIMENSIONS,\n",
    "]  # Size of the transformer layers used for skip connecionts\n",
    "TRANSFORMER_LAYERS = 16 #actual times transformer layers repeat\n",
    "MLP_FINALLAYERS = [2028, 1024]"
   ]
  },
  {
   "cell_type": "code",
   "execution_count": 3,
   "metadata": {
    "execution": {
     "iopub.execute_input": "2024-11-07T22:42:09.520399Z",
     "iopub.status.busy": "2024-11-07T22:42:09.519528Z",
     "iopub.status.idle": "2024-11-07T22:42:12.591208Z",
     "shell.execute_reply": "2024-11-07T22:42:12.590318Z",
     "shell.execute_reply.started": "2024-11-07T22:42:09.520363Z"
    }
   },
   "outputs": [
    {
     "name": "stdout",
     "output_type": "stream",
     "text": [
      "Downloading data from https://storage.googleapis.com/tensorflow/tf-keras-datasets/mnist.npz\n",
      "11490434/11490434 [==============================] - 0s 0us/step\n",
      "(60000, 28, 28, 1)\n",
      "(60000,)\n",
      "[5 0 4 ... 5 6 8]\n"
     ]
    },
    {
     "name": "stderr",
     "output_type": "stream",
     "text": [
      "2024-11-07 22:42:10.158998: I external/local_xla/xla/stream_executor/cuda/cuda_executor.cc:901] successful NUMA node read from SysFS had negative value (-1), but there must be at least one NUMA node, so returning NUMA node zero. See more at https://github.com/torvalds/linux/blob/v6.0/Documentation/ABI/testing/sysfs-bus-pci#L344-L355\n",
      "2024-11-07 22:42:10.233315: I external/local_xla/xla/stream_executor/cuda/cuda_executor.cc:901] successful NUMA node read from SysFS had negative value (-1), but there must be at least one NUMA node, so returning NUMA node zero. See more at https://github.com/torvalds/linux/blob/v6.0/Documentation/ABI/testing/sysfs-bus-pci#L344-L355\n",
      "2024-11-07 22:42:10.233567: I external/local_xla/xla/stream_executor/cuda/cuda_executor.cc:901] successful NUMA node read from SysFS had negative value (-1), but there must be at least one NUMA node, so returning NUMA node zero. See more at https://github.com/torvalds/linux/blob/v6.0/Documentation/ABI/testing/sysfs-bus-pci#L344-L355\n",
      "2024-11-07 22:42:10.236356: I external/local_xla/xla/stream_executor/cuda/cuda_executor.cc:901] successful NUMA node read from SysFS had negative value (-1), but there must be at least one NUMA node, so returning NUMA node zero. See more at https://github.com/torvalds/linux/blob/v6.0/Documentation/ABI/testing/sysfs-bus-pci#L344-L355\n",
      "2024-11-07 22:42:10.236561: I external/local_xla/xla/stream_executor/cuda/cuda_executor.cc:901] successful NUMA node read from SysFS had negative value (-1), but there must be at least one NUMA node, so returning NUMA node zero. See more at https://github.com/torvalds/linux/blob/v6.0/Documentation/ABI/testing/sysfs-bus-pci#L344-L355\n",
      "2024-11-07 22:42:10.236715: I external/local_xla/xla/stream_executor/cuda/cuda_executor.cc:901] successful NUMA node read from SysFS had negative value (-1), but there must be at least one NUMA node, so returning NUMA node zero. See more at https://github.com/torvalds/linux/blob/v6.0/Documentation/ABI/testing/sysfs-bus-pci#L344-"
     ]
    },
    {
     "name": "stdout",
     "output_type": "stream",
     "text": [
      "(10000, 28, 28, 1)\n",
      "(10000,)\n",
      "tf.Tensor([5 0 4 ... 5 6 8], shape=(60000,), dtype=int32)\n"
     ]
    },
    {
     "name": "stderr",
     "output_type": "stream",
     "text": [
      "L355\n",
      "2024-11-07 22:42:12.249888: I external/local_xla/xla/stream_executor/cuda/cuda_executor.cc:901] successful NUMA node read from SysFS had negative value (-1), but there must be at least one NUMA node, so returning NUMA node zero. See more at https://github.com/torvalds/linux/blob/v6.0/Documentation/ABI/testing/sysfs-bus-pci#L344-L355\n",
      "2024-11-07 22:42:12.250135: I external/local_xla/xla/stream_executor/cuda/cuda_executor.cc:901] successful NUMA node read from SysFS had negative value (-1), but there must be at least one NUMA node, so returning NUMA node zero. See more at https://github.com/torvalds/linux/blob/v6.0/Documentation/ABI/testing/sysfs-bus-pci#L344-L355\n",
      "2024-11-07 22:42:12.250303: I external/local_xla/xla/stream_executor/cuda/cuda_executor.cc:901] successful NUMA node read from SysFS had negative value (-1), but there must be at least one NUMA node, so returning NUMA node zero. See more at https://github.com/torvalds/linux/blob/v6.0/Documentation/ABI/testing/sysfs-bus-pci#L344-L355\n",
      "2024-11-07 22:42:12.250429: I tensorflow/core/common_runtime/gpu/gpu_device.cc:1929] Created device /job:localhost/replica:0/task:0/device:GPU:0 with 15526 MB memory:  -> device: 0, name: Quadro P5000, pci bus id: 0000:00:05.0, compute capability: 6.1\n"
     ]
    }
   ],
   "source": [
    "#load data\n",
    "(x_train, y_train), (x_test, y_test) = keras.datasets.mnist.load_data()\n",
    "#convert to float\n",
    "x_train = x_train.astype(\"float32\") / 255\n",
    "x_test = x_test.astype(\"float32\") / 255\n",
    "#expand for said 1 layer dimension\n",
    "x_train = np.expand_dims(x_train, -1)\n",
    "x_test = np.expand_dims(x_test, -1)\n",
    "print(x_train.shape)\n",
    "print(y_train.shape)\n",
    "print(y_train)\n",
    "\n",
    "y_train = tf.convert_to_tensor(np.array(y_train), dtype=\"int32\")\n",
    "y_test = tf.convert_to_tensor(np.array(y_test), dtype=\"int32\")\n",
    "print(x_test.shape)\n",
    "print(y_test.shape)\n",
    "print(y_train)"
   ]
  },
  {
   "cell_type": "code",
   "execution_count": 4,
   "metadata": {
    "execution": {
     "iopub.execute_input": "2024-11-07T22:42:12.592402Z",
     "iopub.status.busy": "2024-11-07T22:42:12.592155Z",
     "iopub.status.idle": "2024-11-07T22:42:12.596580Z",
     "shell.execute_reply": "2024-11-07T22:42:12.595820Z",
     "shell.execute_reply.started": "2024-11-07T22:42:12.592378Z"
    }
   },
   "outputs": [],
   "source": [
    "#Hyper Params\n",
    "learning_rate = 0.001\n",
    "weight_decay = 0.000001\n",
    "batch_size = 2000\n",
    "num_epochs = 30"
   ]
  },
  {
   "cell_type": "code",
   "execution_count": 23,
   "metadata": {
    "execution": {
     "iopub.execute_input": "2024-11-07T22:55:58.326925Z",
     "iopub.status.busy": "2024-11-07T22:55:58.325934Z",
     "iopub.status.idle": "2024-11-07T22:56:01.826483Z",
     "shell.execute_reply": "2024-11-07T22:56:01.825328Z",
     "shell.execute_reply.started": "2024-11-07T22:55:58.326887Z"
    }
   },
   "outputs": [
    {
     "name": "stdout",
     "output_type": "stream",
     "text": [
      "(2000, 28, 28, 1)\n"
     ]
    }
   ],
   "source": [
    "#Data Augmentation Layer\n",
    "dataAugmentation = keras.Sequential([\n",
    "    keras.layers.Normalization(),\n",
    "    keras.layers.RandomRotation(.1),\n",
    "    keras.layers.RandomZoom(width_factor=.1, height_factor=.1)\n",
    "],\n",
    "name=\"dataAug\")\n",
    "dataAugmentation.layers[0].adapt(x_train)\n",
    "#plt.imshow(dataAugmentation(x_train[0]))\n",
    "#print(x_train.shape)\n",
    "#x = dataAugmentation(x_train[:2000])\n",
    "#x = tf.expand_dims(x, axis=-1)\n",
    "#x = tf.reshape(x, shape=(2000, 28, 28, 1))\n",
    "print(x.shape)\n",
    "#y = CreatePatches(IMAGE_PATCH_SIZE)(x)\n",
    "#PositionalEmbeddingsAndEncoder(NUM_PATCHES, PROJECTION_HIDDEN_DIMENSIONS)(y)"
   ]
  },
  {
   "cell_type": "code",
   "execution_count": 6,
   "metadata": {
    "execution": {
     "iopub.execute_input": "2024-11-07T22:42:18.385215Z",
     "iopub.status.busy": "2024-11-07T22:42:18.384826Z",
     "iopub.status.idle": "2024-11-07T22:42:18.396890Z",
     "shell.execute_reply": "2024-11-07T22:42:18.395901Z",
     "shell.execute_reply.started": "2024-11-07T22:42:18.385178Z"
    }
   },
   "outputs": [],
   "source": [
    "#positional embeddings and creating patch sizes. Also final layer\n",
    "def endPortionMLP(inputted, hiddenUnitsArray, dropoutRate):\n",
    "    for units in hiddenUnitsArray:\n",
    "        x = keras.layers.Dense(units, activation=tf.nn.gelu)(inputted)\n",
    "        x = keras.layers.Dropout(dropoutRate)(x)\n",
    "    return x\n",
    "\n",
    "class CreatePatches(keras.layers.Layer):\n",
    "    def __init__(self, patchSize):\n",
    "        super().__init__()\n",
    "        self.patchSize = patchSize\n",
    "    \n",
    "    def call(self, inputImages):\n",
    "        batchSize = tf.shape(inputImages)[0] #gets the first column of input\n",
    "        patches = tf.image.extract_patches(\n",
    "            images = inputImages,\n",
    "            sizes=[1, self.patchSize, self.patchSize, 1],\n",
    "            strides=[1, self.patchSize, self.patchSize, 1],\n",
    "            rates=[1, 1, 1, 1],\n",
    "            padding=\"VALID\" #this means no padding\n",
    "        )\n",
    "        #patchDimensions = patches.shape()[-1] #gets the shape minus number of patches in batch\n",
    "        patches = tf.reshape(patches, [batchSize, -1, self.patchSize * self.patchSize* 1]) #shape now [batches, patch#, patchdims]\n",
    "        return patches\n",
    "    \n",
    "class PositionalEmbeddingsAndEncoder(keras.layers.Layer):\n",
    "    def __init__(self, numberPatches, projectionDimension):\n",
    "        super().__init__()\n",
    "        self.numPatches = numberPatches\n",
    "        self.projection = keras.layers.Dense(units=projectionDimension)\n",
    "        self.positionalEmbedding = keras.layers.Embedding(\n",
    "            input_dim=numberPatches, output_dim=projectionDimension\n",
    "        )\n",
    "    \n",
    "    def call(self, inputtedPatches):\n",
    "        positions = tf.expand_dims(tf.range(start=0, limit=self.numPatches, delta=1), axis=0)\n",
    "        #positions = tf.range(start=0, limit=self.numPatches, delta=1) #increment stuff\n",
    "        embeddings = self.positionalEmbedding(positions) + self.projection(inputtedPatches)\n",
    "        return embeddings\n",
    "        #return self.positionalEmbedding(positions)\n",
    "        #return self.projection(inputtedPatches)\n",
    "\n"
   ]
  },
  {
   "cell_type": "code",
   "execution_count": 24,
   "metadata": {
    "execution": {
     "iopub.execute_input": "2024-11-07T22:56:28.018696Z",
     "iopub.status.busy": "2024-11-07T22:56:28.018055Z",
     "iopub.status.idle": "2024-11-07T22:56:28.025828Z",
     "shell.execute_reply": "2024-11-07T22:56:28.024901Z",
     "shell.execute_reply.started": "2024-11-07T22:56:28.018670Z"
    }
   },
   "outputs": [],
   "source": [
    "#create the vision transformer\n",
    "def VisionTransformer():\n",
    "    #input layer\n",
    "    inputs = keras.layers.Input(shape=x_train[0].shape)\n",
    "\n",
    "    #get the augmented data\n",
    "    augmentedData = dataAugmentation(inputs)\n",
    "    \n",
    "    #reshape bc tensorflow truncates for some reason\n",
    "    #augmentedData = tf.expand_dims(augmentedData, axis=-1)\n",
    "    #apparently just works now thanks tf\n",
    "    \n",
    "    #get the individual patches\n",
    "    patches = CreatePatches(IMAGE_PATCH_SIZE)(augmentedData) #init data then call\n",
    "\n",
    "    encoded_patches = PositionalEmbeddingsAndEncoder(NUM_PATCHES, PROJECTION_HIDDEN_DIMENSIONS)(patches)\n",
    "\n",
    "    #multihead attention blocks of encoder\n",
    "    for i in range(TRANSFORMER_LAYERS):\n",
    "        x1 = keras.layers.Normalization()(encoded_patches)\n",
    "\n",
    "        attentionOutput = keras.layers.MultiHeadAttention(num_heads=NUM_SELFATTENTION_HEADS, key_dim=PROJECTION_HIDDEN_DIMENSIONS, dropout=0.12)(x1, x1)\n",
    "        \n",
    "        x2 = keras.layers.Add()([attentionOutput, encoded_patches]) #skip connection\n",
    "\n",
    "        x3 = keras.layers.LayerNormalization(epsilon=1e-6)(x2)\n",
    "\n",
    "        x3 = endPortionMLP(x3, hiddenUnitsArray=TRANSFORMER_UNITS, dropoutRate=0.12)\n",
    "\n",
    "        encoded_patches = keras.layers.Add()([x3, x2]) #skip connection\n",
    "\n",
    "    #[batchsize, info] tensor\n",
    "    endingPortion = keras.layers.Normalization()(encoded_patches)\n",
    "    endingPortion = keras.layers.Flatten()(endingPortion)\n",
    "    endingPortion = keras.layers.Dropout(0.5)(endingPortion)\n",
    "\n",
    "    #final mlp\n",
    "    endingPortion = endPortionMLP(endingPortion, hiddenUnitsArray=TRANSFORMER_UNITS, dropoutRate=0.5)\n",
    "\n",
    "    logits = keras.layers.Dense(NUM_CLASSES)(endingPortion)\n",
    "    logits = keras.layers.Softmax()(logits)\n",
    "\n",
    "    model = keras.Model(inputs=inputs, outputs=logits)\n",
    "    return model"
   ]
  },
  {
   "cell_type": "code",
   "execution_count": 25,
   "metadata": {
    "execution": {
     "iopub.execute_input": "2024-11-07T22:56:30.421021Z",
     "iopub.status.busy": "2024-11-07T22:56:30.420698Z",
     "iopub.status.idle": "2024-11-07T22:56:30.426527Z",
     "shell.execute_reply": "2024-11-07T22:56:30.425804Z",
     "shell.execute_reply.started": "2024-11-07T22:56:30.420996Z"
    }
   },
   "outputs": [],
   "source": [
    "def runModel(model):\n",
    "    optimizer = keras.optimizers.Adam(learning_rate=learning_rate, weight_decay=weight_decay)\n",
    "    model.compile(loss=keras.losses.SparseCategoricalCrossentropy(), metrics=[keras.metrics.SparseCategoricalAccuracy(name='accuracy'), keras.metrics.SparseTopKCategoricalAccuracy(5, name=\"top-5-accuracy\")])\n",
    "    \n",
    "    checkpoint_path = \"training_4/cp.ckpt.weights.h5\"\n",
    "    #checkpoint_dir = os.path.dirname(checkpoint_path)\n",
    "    network_callback = tf.keras.callbacks.ModelCheckpoint(filepath=checkpoint_path,\n",
    "                                                 save_weights_only=True,\n",
    "                                                 monitor=\"accuracy\",\n",
    "                                                 mode = 'max',\n",
    "                                                 save_best_only=True\n",
    "                                                )\n",
    "    history = model.fit(x=x_train,y=y_train,batch_size=batch_size,epochs=num_epochs,validation_split=0.1,callbacks=[network_callback])\n",
    "\n",
    "    model.load_weights(checkpoint_path)\n",
    "    accuracy = model.evaluate(x=x_test, y=y_test)\n",
    "    print(\"testing set accuracy\")\n",
    "    print(accuracy)\n",
    "    return history"
   ]
  },
  {
   "cell_type": "code",
   "execution_count": 30,
   "metadata": {
    "execution": {
     "iopub.execute_input": "2024-11-07T23:02:27.420014Z",
     "iopub.status.busy": "2024-11-07T23:02:27.419673Z",
     "iopub.status.idle": "2024-11-07T23:02:38.159455Z",
     "shell.execute_reply": "2024-11-07T23:02:38.158781Z",
     "shell.execute_reply.started": "2024-11-07T23:02:27.419990Z"
    }
   },
   "outputs": [
    {
     "name": "stdout",
     "output_type": "stream",
     "text": [
      "313/313 [==============================] - 8s 19ms/step - loss: 0.0633 - accuracy: 0.9818 - top-5-accuracy: 0.9994\n"
     ]
    },
    {
     "data": {
      "text/plain": [
       "[0.06329003721475601, 0.9818000197410583, 0.9994000196456909]"
      ]
     },
     "execution_count": 30,
     "metadata": {},
     "output_type": "execute_result"
    }
   ],
   "source": [
    "checkpoint_path = \"training_4/cp.ckpt.weights.h5\"\n",
    "model = VisionTransformer()\n",
    "model.load_weights(checkpoint_path)\n",
    "model.compile(loss=keras.losses.SparseCategoricalCrossentropy(), metrics=[keras.metrics.SparseCategoricalAccuracy(name='accuracy'), keras.metrics.SparseTopKCategoricalAccuracy(5, name=\"top-5-accuracy\")])\n",
    "model.evaluate(x_test, y_test)\n",
    "#model.summary()\n"
   ]
  },
  {
   "cell_type": "code",
   "execution_count": null,
   "metadata": {
    "execution": {
     "iopub.status.busy": "2024-11-07T22:42:24.650357Z",
     "iopub.status.idle": "2024-11-07T22:42:24.650705Z",
     "shell.execute_reply": "2024-11-07T22:42:24.650516Z",
     "shell.execute_reply.started": "2024-11-07T22:42:24.650501Z"
    }
   },
   "outputs": [],
   "source": [
    "#delete later for debugging\n",
    "print(x_train[0].shape)"
   ]
  },
  {
   "cell_type": "code",
   "execution_count": 28,
   "metadata": {
    "execution": {
     "iopub.execute_input": "2024-11-07T22:56:50.102926Z",
     "iopub.status.busy": "2024-11-07T22:56:50.102522Z",
     "iopub.status.idle": "2024-11-07T23:00:43.738565Z",
     "shell.execute_reply": "2024-11-07T23:00:43.737926Z",
     "shell.execute_reply.started": "2024-11-07T22:56:50.102892Z"
    }
   },
   "outputs": [
    {
     "name": "stdout",
     "output_type": "stream",
     "text": [
      "Epoch 1/30\n"
     ]
    },
    {
     "name": "stderr",
     "output_type": "stream",
     "text": [
      "2024-11-07 22:57:13.766075: I external/local_xla/xla/service/service.cc:168] XLA service 0x7fd633bfb940 initialized for platform CUDA (this does not guarantee that XLA will be used). Devices:\n",
      "2024-11-07 22:57:13.766151: I external/local_xla/xla/service/service.cc:176]   StreamExecutor device (0): Quadro P5000, Compute Capability 6.1\n",
      "2024-11-07 22:57:13.798127: I tensorflow/compiler/mlir/tensorflow/utils/dump_mlir_util.cc:269] disabling MLIR crash reproducer, set env var `MLIR_CRASH_REPRODUCER_DIRECTORY` to enable.\n",
      "2024-11-07 22:57:14.684427: I external/local_xla/xla/stream_executor/cuda/cuda_dnn.cc:454] Loaded cuDNN version 8907\n",
      "WARNING: All log messages before absl::InitializeLog() is called are written to STDERR\n",
      "I0000 00:00:1731020234.779732      99 device_compiler.h:186] Compiled cluster using XLA!  This line is logged at most once for the lifetime of the process.\n"
     ]
    },
    {
     "name": "stdout",
     "output_type": "stream",
     "text": [
      "27/27 [==============================] - 39s 290ms/step - loss: 4.3991 - accuracy: 0.3074 - top-5-accuracy: 0.7518 - val_loss: 0.9711 - val_accuracy: 0.6620 - val_top-5-accuracy: 0.9607\n",
      "Epoch 2/30\n",
      "27/27 [==============================] - 6s 233ms/step - loss: 1.5806 - accuracy: 0.5051 - top-5-accuracy: 0.8818 - val_loss: 0.6374 - val_accuracy: 0.7920 - val_top-5-accuracy: 0.9850\n",
      "Epoch 3/30\n",
      "27/27 [==============================] - 6s 235ms/step - loss: 1.2145 - accuracy: 0.6311 - top-5-accuracy: 0.9231 - val_loss: 0.4785 - val_accuracy: 0.8592 - val_top-5-accuracy: 0.9828\n",
      "Epoch 4/30\n",
      "27/27 [==============================] - 6s 237ms/step - loss: 0.8650 - accuracy: 0.7439 - top-5-accuracy: 0.9594 - val_loss: 0.2524 - val_accuracy: 0.9397 - val_top-5-accuracy: 0.9935\n",
      "Epoch 5/30\n",
      "27/27 [==============================] - 6s 236ms/step - loss: 0.5747 - accuracy: 0.8324 - top-5-accuracy: 0.9780 - val_loss: 0.2199 - val_accuracy: 0.9458 - val_top-5-accuracy: 0.9948\n",
      "Epoch 6/30\n",
      "27/27 [==============================] - 6s 234ms/step - loss: 0.4901 - accuracy: 0.8634 - top-5-accuracy: 0.9829 - val_loss: 0.1326 - val_accuracy: 0.9652 - val_top-5-accuracy: 0.9965\n",
      "Epoch 7/30\n",
      "27/27 [==============================] - 6s 238ms/step - loss: 0.3961 - accuracy: 0.8907 - top-5-accuracy: 0.9886 - val_loss: 0.1738 - val_accuracy: 0.9538 - val_top-5-accuracy: 0.9973\n",
      "Epoch 8/30\n",
      "27/27 [==============================] - 6s 234ms/step - loss: 0.3343 - accuracy: 0.9086 - top-5-accuracy: 0.9911 - val_loss: 0.1161 - val_accuracy: 0.9702 - val_top-5-accuracy: 0.9978\n",
      "Epoch 9/30\n",
      "27/27 [==============================] - 6s 233ms/step - loss: 0.2984 - accuracy: 0.9193 - top-5-accuracy: 0.9923 - val_loss: 0.2054 - val_accuracy: 0.9485 - val_top-5-accuracy: 0.9968\n",
      "Epoch 10/30\n",
      "27/27 [==============================] - 6s 235ms/step - loss: 0.3036 - accuracy: 0.9204 - top-5-accuracy: 0.9915 - val_loss: 0.0933 - val_accuracy: 0.9757 - val_top-5-accuracy: 0.9987\n",
      "Epoch 11/30\n",
      "27/27 [==============================] - 6s 240ms/step - loss: 0.2377 - accuracy: 0.9349 - top-5-accuracy: 0.9943 - val_loss: 0.0977 - val_accuracy: 0.9733 - val_top-5-accuracy: 0.9992\n",
      "Epoch 12/30\n",
      "27/27 [==============================] - 6s 238ms/step - loss: 0.2215 - accuracy: 0.9398 - top-5-accuracy: 0.9945 - val_loss: 0.1195 - val_accuracy: 0.9715 - val_top-5-accuracy: 0.9983\n",
      "Epoch 13/30\n",
      "27/27 [==============================] - 6s 237ms/step - loss: 0.2162 - accuracy: 0.9412 - top-5-accuracy: 0.9952 - val_loss: 0.2587 - val_accuracy: 0.9058 - val_top-5-accuracy: 0.9955\n",
      "Epoch 14/30\n",
      "27/27 [==============================] - 7s 250ms/step - loss: 0.1944 - accuracy: 0.9463 - top-5-accuracy: 0.9960 - val_loss: 0.0803 - val_accuracy: 0.9795 - val_top-5-accuracy: 0.9988\n",
      "Epoch 15/30\n",
      "27/27 [==============================] - 6s 233ms/step - loss: 0.1840 - accuracy: 0.9496 - top-5-accuracy: 0.9962 - val_loss: 0.0854 - val_accuracy: 0.9782 - val_top-5-accuracy: 0.9992\n",
      "Epoch 16/30\n",
      "27/27 [==============================] - 6s 234ms/step - loss: 0.1742 - accuracy: 0.9522 - top-5-accuracy: 0.9968 - val_loss: 0.0934 - val_accuracy: 0.9742 - val_top-5-accuracy: 0.9992\n",
      "Epoch 17/30\n",
      "27/27 [==============================] - 6s 234ms/step - loss: 0.1590 - accuracy: 0.9563 - top-5-accuracy: 0.9970 - val_loss: 0.0744 - val_accuracy: 0.9800 - val_top-5-accuracy: 0.9995\n",
      "Epoch 18/30\n",
      "27/27 [==============================] - 6s 213ms/step - loss: 0.1619 - accuracy: 0.9563 - top-5-accuracy: 0.9969 - val_loss: 0.0654 - val_accuracy: 0.9828 - val_top-5-accuracy: 0.9993\n",
      "Epoch 19/30\n",
      "27/27 [==============================] - 6s 237ms/step - loss: 0.1507 - accuracy: 0.9593 - top-5-accuracy: 0.9973 - val_loss: 0.0759 - val_accuracy: 0.9818 - val_top-5-accuracy: 0.9992\n",
      "Epoch 20/30\n",
      "27/27 [==============================] - 6s 237ms/step - loss: 0.1423 - accuracy: 0.9611 - top-5-accuracy: 0.9973 - val_loss: 0.0681 - val_accuracy: 0.9803 - val_top-5-accuracy: 0.9995\n",
      "Epoch 21/30\n",
      "27/27 [==============================] - 6s 236ms/step - loss: 0.1446 - accuracy: 0.9616 - top-5-accuracy: 0.9971 - val_loss: 0.0701 - val_accuracy: 0.9795 - val_top-5-accuracy: 0.9993\n",
      "Epoch 22/30\n",
      "27/27 [==============================] - 6s 240ms/step - loss: 0.1372 - accuracy: 0.9630 - top-5-accuracy: 0.9978 - val_loss: 0.0692 - val_accuracy: 0.9828 - val_top-5-accuracy: 0.9988\n",
      "Epoch 23/30\n",
      "27/27 [==============================] - 6s 234ms/step - loss: 0.1293 - accuracy: 0.9648 - top-5-accuracy: 0.9978 - val_loss: 0.0596 - val_accuracy: 0.9840 - val_top-5-accuracy: 0.9997\n",
      "Epoch 24/30\n",
      "27/27 [==============================] - 7s 261ms/step - loss: 0.1210 - accuracy: 0.9673 - top-5-accuracy: 0.9976 - val_loss: 0.0602 - val_accuracy: 0.9845 - val_top-5-accuracy: 0.9993\n",
      "Epoch 25/30\n",
      "27/27 [==============================] - 6s 212ms/step - loss: 0.1222 - accuracy: 0.9668 - top-5-accuracy: 0.9980 - val_loss: 0.0753 - val_accuracy: 0.9848 - val_top-5-accuracy: 0.9990\n",
      "Epoch 26/30\n",
      "27/27 [==============================] - 6s 214ms/step - loss: 0.1226 - accuracy: 0.9663 - top-5-accuracy: 0.9982 - val_loss: 0.0544 - val_accuracy: 0.9845 - val_top-5-accuracy: 0.9992\n",
      "Epoch 27/30\n",
      "27/27 [==============================] - 6s 238ms/step - loss: 0.1135 - accuracy: 0.9699 - top-5-accuracy: 0.9984 - val_loss: 0.0579 - val_accuracy: 0.9848 - val_top-5-accuracy: 0.9995\n",
      "Epoch 28/30\n",
      "27/27 [==============================] - 6s 234ms/step - loss: 0.1099 - accuracy: 0.9703 - top-5-accuracy: 0.9986 - val_loss: 0.0684 - val_accuracy: 0.9813 - val_top-5-accuracy: 0.9992\n",
      "Epoch 29/30\n",
      "27/27 [==============================] - 6s 234ms/step - loss: 0.1054 - accuracy: 0.9709 - top-5-accuracy: 0.9985 - val_loss: 0.0664 - val_accuracy: 0.9810 - val_top-5-accuracy: 0.9992\n",
      "Epoch 30/30\n",
      "27/27 [==============================] - 6s 214ms/step - loss: 0.1033 - accuracy: 0.9709 - top-5-accuracy: 0.9986 - val_loss: 0.0619 - val_accuracy: 0.9838 - val_top-5-accuracy: 0.9993\n",
      "313/313 [==============================] - 8s 20ms/step - loss: 0.0633 - accuracy: 0.9818 - top-5-accuracy: 0.9994\n",
      "testing set accuracy\n",
      "[0.06329003721475601, 0.9818000197410583, 0.9994000196456909]\n"
     ]
    },
    {
     "data": {
      "image/png": "[encoded data removed]",
      "text/plain": [
       "<Figure size 640x480 with 1 Axes>"
      ]
     },
     "metadata": {},
     "output_type": "display_data"
    },
    {
     "data": {
      "image/png": "[encoded data removed]",
      "text/plain": [
       "<Figure size 640x480 with 1 Axes>"
      ]
     },
     "metadata": {},
     "output_type": "display_data"
    }
   ],
   "source": [
    "vit_classifier = VisionTransformer()\n",
    "history = runModel(vit_classifier)\n",
    "\n",
    "\n",
    "def plot_history(item):\n",
    "    plt.plot(history.history[item], label=item)\n",
    "    plt.plot(history.history[\"val_\" + item], label=\"val_\" + item)\n",
    "    plt.xlabel(\"Epochs\")\n",
    "    plt.ylabel(item)\n",
    "    plt.title(\"Train and Validation {} Over Epochs\".format(item), fontsize=10)\n",
    "    plt.legend()\n",
    "    plt.grid()\n",
    "    plt.show()\n",
    "\n",
    "\n",
    "plot_history(\"loss\")\n",
    "plot_history(\"accuracy\")"
   ]
  }
 ],
 "metadata": {
  "kernelspec": {
   "display_name": "Python 3 (ipykernel)",
   "language": "python",
   "name": "python3"
  },
  "language_info": {
   "codemirror_mode": {
    "name": "ipython",
    "version": 3
   },
   "file_extension": ".py",
   "mimetype": "text/x-python",
   "name": "python",
   "nbconvert_exporter": "python",
   "pygments_lexer": "ipython3",
   "version": "3.11.7"
  }
 },
 "nbformat": 4,
 "nbformat_minor": 4
}
