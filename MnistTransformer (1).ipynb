{
 "cells": [
  {
   "cell_type": "code",
   "execution_count": 1,
   "metadata": {
    "execution": {
     "iopub.execute_input": "2024-10-17T06:17:40.119647Z",
     "iopub.status.busy": "2024-10-17T06:17:40.118839Z",
     "iopub.status.idle": "2024-10-17T06:17:44.724759Z",
     "shell.execute_reply": "2024-10-17T06:17:44.724001Z",
     "shell.execute_reply.started": "2024-10-17T06:17:40.119606Z"
    }
   },
   "outputs": [
    {
     "name": "stderr",
     "output_type": "stream",
     "text": [
      "2024-10-17 06:17:40.668865: E external/local_xla/xla/stream_executor/cuda/cuda_dnn.cc:9261] Unable to register cuDNN factory: Attempting to register factory for plugin cuDNN when one has already been registered\n",
      "2024-10-17 06:17:40.668943: E external/local_xla/xla/stream_executor/cuda/cuda_fft.cc:607] Unable to register cuFFT factory: Attempting to register factory for plugin cuFFT when one has already been registered\n",
      "2024-10-17 06:17:40.670603: E external/local_xla/xla/stream_executor/cuda/cuda_blas.cc:1515] Unable to register cuBLAS factory: Attempting to register factory for plugin cuBLAS when one has already been registered\n",
      "2024-10-17 06:17:40.679570: I tensorflow/core/platform/cpu_feature_guard.cc:182] This TensorFlow binary is optimized to use available CPU instructions in performance-critical operations.\n",
      "To enable the following instructions: AVX2 FMA, in other operations, rebuild TensorFlow with the appropriate compiler flags.\n",
      "2024-10-17 06:17:42.198518: W tensorflow/compiler/tf2tensorrt/utils/py_utils.cc:38] TF-TRT Warning: Could not find TensorRT\n"
     ]
    }
   ],
   "source": [
    "import tensorflow as tf\n",
    "import numpy as np\n",
    "import keras\n",
    "import matplotlib.image as mpimg\n",
    "import matplotlib.pyplot as plt\n",
    "import keras.datasets as mnist\n",
    "import os\n",
    "\n"
   ]
  },
  {
   "cell_type": "code",
   "execution_count": 15,
   "metadata": {
    "execution": {
     "iopub.execute_input": "2024-10-17T06:24:52.909187Z",
     "iopub.status.busy": "2024-10-17T06:24:52.908778Z",
     "iopub.status.idle": "2024-10-17T06:24:52.916002Z",
     "shell.execute_reply": "2024-10-17T06:24:52.914963Z",
     "shell.execute_reply.started": "2024-10-17T06:24:52.909154Z"
    }
   },
   "outputs": [],
   "source": [
    "#Image Data Details\n",
    "IMAGE_SIZE = 28\n",
    "IMAGE_PATCH_SIZE = 14\n",
    "NUM_PATCHES = int((IMAGE_SIZE / IMAGE_PATCH_SIZE) ** 2)\n",
    "NUM_CLASSES = 10\n",
    "NUM_LAYERS = 1\n",
    "IMAGE_SHAPE = (IMAGE_SIZE, IMAGE_SIZE, NUM_LAYERS)\n",
    "\n",
    "#Transformer settings\n",
    "PROJECTION_HIDDEN_DIMENSIONS = int(98) #98 hidden dimensions when linear transforming for first time\n",
    "NUM_SELFATTENTION_HEADS = 4 #each multihead has 4 self attention layers\n",
    "TRANSFORMER_UNITS = [\n",
    "    PROJECTION_HIDDEN_DIMENSIONS * 2,\n",
    "    PROJECTION_HIDDEN_DIMENSIONS,\n",
    "]  # Size of the transformer layers used for skip connecionts\n",
    "TRANSFORMER_LAYERS = 16 #actual times transformer layers repeat\n",
    "MLP_FINALLAYERS = [2028, 1024]"
   ]
  },
  {
   "cell_type": "code",
   "execution_count": 3,
   "metadata": {
    "execution": {
     "iopub.execute_input": "2024-10-17T06:17:44.733811Z",
     "iopub.status.busy": "2024-10-17T06:17:44.733417Z",
     "iopub.status.idle": "2024-10-17T06:17:48.936784Z",
     "shell.execute_reply": "2024-10-17T06:17:48.935001Z",
     "shell.execute_reply.started": "2024-10-17T06:17:44.733787Z"
    }
   },
   "outputs": [
    {
     "name": "stdout",
     "output_type": "stream",
     "text": [
      "Downloading data from https://storage.googleapis.com/tensorflow/tf-keras-datasets/mnist.npz\n",
      "11490434/11490434 [==============================] - 0s 0us/step\n",
      "(60000, 28, 28, 1)\n",
      "(60000,)\n",
      "[5 0 4 ... 5 6 8]\n"
     ]
    },
    {
     "name": "stderr",
     "output_type": "stream",
     "text": [
      "2024-10-17 06:17:45.393736: I external/local_xla/xla/stream_executor/cuda/cuda_executor.cc:901] successful NUMA node read from SysFS had negative value (-1), but there must be at least one NUMA node, so returning NUMA node zero. See more at https://github.com/torvalds/linux/blob/v6.0/Documentation/ABI/testing/sysfs-bus-pci#L344-L355\n"
     ]
    },
    {
     "name": "stdout",
     "output_type": "stream",
     "text": [
      "(60000,)\n",
      "tf.Tensor([5 0 4 ... 5 6 8], shape=(60000,), dtype=int32)\n"
     ]
    },
    {
     "name": "stderr",
     "output_type": "stream",
     "text": [
      "2024-10-17 06:17:45.591944: I external/local_xla/xla/stream_executor/cuda/cuda_executor.cc:901] successful NUMA node read from SysFS had negative value (-1), but there must be at least one NUMA node, so returning NUMA node zero. See more at https://github.com/torvalds/linux/blob/v6.0/Documentation/ABI/testing/sysfs-bus-pci#L344-L355\n",
      "2024-10-17 06:17:45.592315: I external/local_xla/xla/stream_executor/cuda/cuda_executor.cc:901] successful NUMA node read from SysFS had negative value (-1), but there must be at least one NUMA node, so returning NUMA node zero. See more at https://github.com/torvalds/linux/blob/v6.0/Documentation/ABI/testing/sysfs-bus-pci#L344-L355\n",
      "2024-10-17 06:17:45.597560: I external/local_xla/xla/stream_executor/cuda/cuda_executor.cc:901] successful NUMA node read from SysFS had negative value (-1), but there must be at least one NUMA node, so returning NUMA node zero. See more at https://github.com/torvalds/linux/blob/v6.0/Documentation/ABI/testing/sysfs-bus-pci#L344-L355\n",
      "2024-10-17 06:17:45.597901: I external/local_xla/xla/stream_executor/cuda/cuda_executor.cc:901] successful NUMA node read from SysFS had negative value (-1), but there must be at least one NUMA node, so returning NUMA node zero. See more at https://github.com/torvalds/linux/blob/v6.0/Documentation/ABI/testing/sysfs-bus-pci#L344-L355\n",
      "2024-10-17 06:17:45.598070: I external/local_xla/xla/stream_executor/cuda/cuda_executor.cc:901] successful NUMA node read from SysFS had negative value (-1), but there must be at least one NUMA node, so returning NUMA node zero. See more at https://github.com/torvalds/linux/blob/v6.0/Documentation/ABI/testing/sysfs-bus-pci#L344-L355\n",
      "2024-10-17 06:17:48.565301: I external/local_xla/xla/stream_executor/cuda/cuda_executor.cc:901] successful NUMA node read from SysFS had negative value (-1), but there must be at least one NUMA node, so returning NUMA node zero. See more at https://github.com/torvalds/linux/blob/v6.0/Documentation/ABI/testing/sysfs-bus-pci#L344-L355\n",
      "2024-10-17 06:17:48.565536: I external/local_xla/xla/stream_executor/cuda/cuda_executor.cc:901] successful NUMA node read from SysFS had negative value (-1), but there must be at least one NUMA node, so returning NUMA node zero. See more at https://github.com/torvalds/linux/blob/v6.0/Documentation/ABI/testing/sysfs-bus-pci#L344-L355\n",
      "2024-10-17 06:17:48.565726: I external/local_xla/xla/stream_executor/cuda/cuda_executor.cc:901] successful NUMA node read from SysFS had negative value (-1), but there must be at least one NUMA node, so returning NUMA node zero. See more at https://github.com/torvalds/linux/blob/v6.0/Documentation/ABI/testing/sysfs-bus-pci#L344-L355\n",
      "2024-10-17 06:17:48.565862: I tensorflow/core/common_runtime/gpu/gpu_device.cc:1929] Created device /job:localhost/replica:0/task:0/device:GPU:0 with 15526 MB memory:  -> device: 0, name: Quadro P5000, pci bus id: 0000:00:05.0, compute capability: 6.1\n"
     ]
    }
   ],
   "source": [
    "#load data\n",
    "(x_train, y_train), (x_test, y_test) = keras.datasets.mnist.load_data()\n",
    "#convert to float\n",
    "x_train = x_train.astype(\"float32\") / 255\n",
    "x_test = x_test.astype(\"float32\") / 255\n",
    "#expand for said 1 layer dimension\n",
    "x_train = np.expand_dims(x_train, -1)\n",
    "x_test = np.expand_dims(x_test, -1)\n",
    "print(x_train.shape)\n",
    "print(y_train.shape)\n",
    "print(y_train)\n",
    "\n",
    "y_train = tf.convert_to_tensor(np.array(y_train), dtype=\"int32\")\n",
    "y_train = tf.convert_to_tensor(np.array(y_train), dtype=\"int32\")\n",
    "#print(y_train)\n",
    "print(y_train.shape)\n",
    "print(y_train)"
   ]
  },
  {
   "cell_type": "code",
   "execution_count": 27,
   "metadata": {
    "execution": {
     "iopub.execute_input": "2024-10-17T06:51:50.726330Z",
     "iopub.status.busy": "2024-10-17T06:51:50.725848Z",
     "iopub.status.idle": "2024-10-17T06:51:50.731991Z",
     "shell.execute_reply": "2024-10-17T06:51:50.730586Z",
     "shell.execute_reply.started": "2024-10-17T06:51:50.726274Z"
    }
   },
   "outputs": [],
   "source": [
    "#Hyper Params\n",
    "learning_rate = 0.001\n",
    "weight_decay = 0.000001\n",
    "batch_size = 2000\n",
    "num_epochs = 30"
   ]
  },
  {
   "cell_type": "code",
   "execution_count": 23,
   "metadata": {
    "execution": {
     "iopub.execute_input": "2024-10-17T06:30:41.726210Z",
     "iopub.status.busy": "2024-10-17T06:30:41.725561Z",
     "iopub.status.idle": "2024-10-17T06:30:45.017680Z",
     "shell.execute_reply": "2024-10-17T06:30:45.016938Z",
     "shell.execute_reply.started": "2024-10-17T06:30:41.726180Z"
    }
   },
   "outputs": [],
   "source": [
    "#Data Augmentation Layer\n",
    "dataAugmentation = keras.Sequential([\n",
    "    keras.layers.Normalization(),\n",
    "    keras.layers.RandomRotation(.1),\n",
    "    keras.layers.RandomZoom(width_factor=.1, height_factor=.1)\n",
    "],\n",
    "name=\"dataAug\")\n",
    "dataAugmentation.layers[0].adapt(x_train)\n",
    "#plt.imshow(dataAugmentation(x_train[0]))\n",
    "#print(x_train.shape)\n",
    "#x = dataAugmentation(x_train[:2000])\n",
    "#x = tf.reshape(x, shape=(2000, 28, 28, 1))\n",
    "#print(x.shape)\n",
    "#y = CreatePatches(IMAGE_PATCH_SIZE)(x)\n",
    "#PositionalEmbeddingsAndEncoder(NUM_PATCHES, PROJECTION_HIDDEN_DIMENSIONS)(y)"
   ]
  },
  {
   "cell_type": "code",
   "execution_count": 17,
   "metadata": {
    "execution": {
     "iopub.execute_input": "2024-10-17T06:25:10.824140Z",
     "iopub.status.busy": "2024-10-17T06:25:10.823818Z",
     "iopub.status.idle": "2024-10-17T06:25:10.833894Z",
     "shell.execute_reply": "2024-10-17T06:25:10.832787Z",
     "shell.execute_reply.started": "2024-10-17T06:25:10.824116Z"
    }
   },
   "outputs": [],
   "source": [
    "#positional embeddings and creating patch sizes. Also final layer\n",
    "def endPortionMLP(inputted, hiddenUnitsArray, dropoutRate):\n",
    "    for units in hiddenUnitsArray:\n",
    "        x = keras.layers.Dense(units, activation=tf.nn.gelu)(inputted)\n",
    "        x = keras.layers.Dropout(dropoutRate)(x)\n",
    "    return x\n",
    "\n",
    "class CreatePatches(keras.layers.Layer):\n",
    "    def __init__(self, patchSize):\n",
    "        super().__init__()\n",
    "        self.patchSize = patchSize\n",
    "    \n",
    "    def call(self, inputImages):\n",
    "        batchSize = tf.shape(inputImages)[0] #gets the first column of input\n",
    "        patches = tf.image.extract_patches(\n",
    "            images = inputImages,\n",
    "            sizes=[1, self.patchSize, self.patchSize, 1],\n",
    "            strides=[1, self.patchSize, self.patchSize, 1],\n",
    "            rates=[1, 1, 1, 1],\n",
    "            padding=\"VALID\" #this means no padding\n",
    "        )\n",
    "        #patchDimensions = patches.shape()[-1] #gets the shape minus number of patches in batch\n",
    "        patches = tf.reshape(patches, [batchSize, -1, self.patchSize * self.patchSize* 1]) #shape now [batches, patch#, patchdims]\n",
    "        return patches\n",
    "    \n",
    "class PositionalEmbeddingsAndEncoder(keras.layers.Layer):\n",
    "    def __init__(self, numberPatches, projectionDimension):\n",
    "        super().__init__()\n",
    "        self.numPatches = numberPatches\n",
    "        self.projection = keras.layers.Dense(units=projectionDimension)\n",
    "        self.positionalEmbedding = keras.layers.Embedding(\n",
    "            input_dim=numberPatches, output_dim=projectionDimension\n",
    "        )\n",
    "    \n",
    "    def call(self, inputtedPatches):\n",
    "        positions = tf.expand_dims(tf.range(start=0, limit=self.numPatches, delta=1), axis=0)\n",
    "        #positions = tf.range(start=0, limit=self.numPatches, delta=1) #increment stuff\n",
    "        embeddings = self.positionalEmbedding(positions) + self.projection(inputtedPatches)\n",
    "        return embeddings\n",
    "        #return self.positionalEmbedding(positions)\n",
    "        #return self.projection(inputtedPatches)\n",
    "\n"
   ]
  },
  {
   "cell_type": "code",
   "execution_count": 25,
   "metadata": {
    "execution": {
     "iopub.execute_input": "2024-10-17T06:30:54.054908Z",
     "iopub.status.busy": "2024-10-17T06:30:54.054572Z",
     "iopub.status.idle": "2024-10-17T06:30:54.063960Z",
     "shell.execute_reply": "2024-10-17T06:30:54.062598Z",
     "shell.execute_reply.started": "2024-10-17T06:30:54.054884Z"
    }
   },
   "outputs": [],
   "source": [
    "#create the vision transformer\n",
    "def VisionTransformer():\n",
    "    #input layer\n",
    "    inputs = keras.layers.Input(shape=x_train[0].shape)\n",
    "\n",
    "    #get the augmented data\n",
    "    augmentedData = dataAugmentation(inputs)\n",
    "    \n",
    "    #reshape bc tensorflow truncates for some reason\n",
    "    augmentedData = tf.reshape(augmentedData, shape=(batch_size, IMAGE_SIZE, IMAGE_SIZE, 1))\n",
    "    \n",
    "    #get the individual patches\n",
    "    patches = CreatePatches(IMAGE_PATCH_SIZE)(augmentedData) #init data then call\n",
    "\n",
    "    encoded_patches = PositionalEmbeddingsAndEncoder(NUM_PATCHES, PROJECTION_HIDDEN_DIMENSIONS)(patches)\n",
    "\n",
    "    #multihead attention blocks of encoder\n",
    "    for i in range(TRANSFORMER_LAYERS):\n",
    "        x1 = keras.layers.Normalization()(encoded_patches)\n",
    "\n",
    "        attentionOutput = keras.layers.MultiHeadAttention(num_heads=NUM_SELFATTENTION_HEADS, key_dim=PROJECTION_HIDDEN_DIMENSIONS, dropout=0.12)(x1, x1)\n",
    "        \n",
    "        x2 = keras.layers.Add()([attentionOutput, encoded_patches]) #skip connection\n",
    "\n",
    "        x3 = keras.layers.LayerNormalization(epsilon=1e-6)(x2)\n",
    "\n",
    "        x3 = endPortionMLP(x3, hiddenUnitsArray=TRANSFORMER_UNITS, dropoutRate=0.12)\n",
    "\n",
    "        encoded_patches = keras.layers.Add()([x3, x2]) #skip connection\n",
    "\n",
    "    #[batchsize, info] tensor\n",
    "    endingPortion = keras.layers.Normalization()(encoded_patches)\n",
    "    endingPortion = keras.layers.Flatten()(endingPortion)\n",
    "    endingPortion = keras.layers.Dropout(0.5)(endingPortion)\n",
    "\n",
    "    #final mlp\n",
    "    endingPortion = endPortionMLP(endingPortion, hiddenUnitsArray=TRANSFORMER_UNITS, dropoutRate=0.5)\n",
    "\n",
    "    logits = keras.layers.Dense(NUM_CLASSES)(endingPortion)\n",
    "    logits = keras.layers.Softmax()(logits)\n",
    "\n",
    "    model = keras.Model(inputs=inputs, outputs=logits)\n",
    "    return model"
   ]
  },
  {
   "cell_type": "code",
   "execution_count": 32,
   "metadata": {
    "execution": {
     "iopub.execute_input": "2024-10-17T07:00:37.430285Z",
     "iopub.status.busy": "2024-10-17T07:00:37.429379Z",
     "iopub.status.idle": "2024-10-17T07:00:37.436156Z",
     "shell.execute_reply": "2024-10-17T07:00:37.435333Z",
     "shell.execute_reply.started": "2024-10-17T07:00:37.430259Z"
    }
   },
   "outputs": [],
   "source": [
    "def runModel(model):\n",
    "    optimizer = keras.optimizers.Adam(learning_rate=learning_rate, weight_decay=weight_decay)\n",
    "    model.compile(loss=keras.losses.SparseCategoricalCrossentropy(), metrics=[keras.metrics.SparseCategoricalAccuracy(name='accuracy'), keras.metrics.SparseTopKCategoricalAccuracy(5, name=\"top-5-accuracy\")])\n",
    "    \n",
    "    checkpoint_path = \"training_1/cp.ckpt.weights.h5\"\n",
    "    checkpoint_dir = os.path.dirname(checkpoint_path)\n",
    "    network_callback = tf.keras.callbacks.ModelCheckpoint(filepath=checkpoint_path,\n",
    "                                                 save_weights_only=True,\n",
    "                                                 #monitor=\"accuracy\",\n",
    "                                                 #save_best_only=True\n",
    "                                                )\n",
    "    history = model.fit(x=x_train,y=y_train,batch_size=batch_size,epochs=num_epochs,validation_split=0.1,callbacks=[network_callback])\n",
    "\n",
    "    model.load_weights(checkpoint_path)\n",
    "    accuracy = model.evaluate(x_test, y_test)\n",
    "    print(\"testing set accuracy\")\n",
    "    print(accuracy)\n",
    "    return history"
   ]
  },
  {
   "cell_type": "code",
   "execution_count": 33,
   "metadata": {
    "execution": {
     "iopub.execute_input": "2024-10-17T07:00:38.780112Z",
     "iopub.status.busy": "2024-10-17T07:00:38.779736Z",
     "iopub.status.idle": "2024-10-17T07:04:18.640345Z",
     "shell.execute_reply": "2024-10-17T07:04:18.639235Z",
     "shell.execute_reply.started": "2024-10-17T07:00:38.780082Z"
    }
   },
   "outputs": [
    {
     "name": "stdout",
     "output_type": "stream",
     "text": [
      "Epoch 1/30\n",
      "27/27 [==============================] - 31s 286ms/step - loss: 5.0841 - accuracy: 0.3160 - top-5-accuracy: 0.7545 - val_loss: 0.9517 - val_accuracy: 0.7003 - val_top-5-accuracy: 0.9300\n",
      "Epoch 2/30\n",
      "27/27 [==============================] - 6s 232ms/step - loss: 1.6269 - accuracy: 0.5034 - top-5-accuracy: 0.8733 - val_loss: 0.7346 - val_accuracy: 0.7693 - val_top-5-accuracy: 0.9543\n",
      "Epoch 3/30\n",
      "27/27 [==============================] - 6s 233ms/step - loss: 1.2844 - accuracy: 0.6018 - top-5-accuracy: 0.9111 - val_loss: 0.5352 - val_accuracy: 0.8173 - val_top-5-accuracy: 0.9828\n",
      "Epoch 4/30\n",
      "27/27 [==============================] - 6s 235ms/step - loss: 0.8632 - accuracy: 0.7404 - top-5-accuracy: 0.9556 - val_loss: 0.2333 - val_accuracy: 0.9325 - val_top-5-accuracy: 0.9923\n",
      "Epoch 5/30\n",
      "27/27 [==============================] - 6s 234ms/step - loss: 0.6361 - accuracy: 0.8145 - top-5-accuracy: 0.9721 - val_loss: 0.1877 - val_accuracy: 0.9442 - val_top-5-accuracy: 0.9962\n",
      "Epoch 6/30\n",
      "27/27 [==============================] - 6s 235ms/step - loss: 0.5083 - accuracy: 0.8580 - top-5-accuracy: 0.9820 - val_loss: 0.1451 - val_accuracy: 0.9605 - val_top-5-accuracy: 0.9973\n",
      "Epoch 7/30\n",
      "27/27 [==============================] - 6s 233ms/step - loss: 0.4031 - accuracy: 0.8899 - top-5-accuracy: 0.9866 - val_loss: 0.1273 - val_accuracy: 0.9680 - val_top-5-accuracy: 0.9970\n",
      "Epoch 8/30\n",
      "27/27 [==============================] - 6s 236ms/step - loss: 0.3516 - accuracy: 0.9050 - top-5-accuracy: 0.9900 - val_loss: 0.1034 - val_accuracy: 0.9722 - val_top-5-accuracy: 0.9982\n",
      "Epoch 9/30\n",
      "27/27 [==============================] - 6s 234ms/step - loss: 0.3241 - accuracy: 0.9118 - top-5-accuracy: 0.9907 - val_loss: 0.1266 - val_accuracy: 0.9670 - val_top-5-accuracy: 0.9978\n",
      "Epoch 10/30\n",
      "27/27 [==============================] - 6s 233ms/step - loss: 0.2708 - accuracy: 0.9271 - top-5-accuracy: 0.9921 - val_loss: 0.1036 - val_accuracy: 0.9723 - val_top-5-accuracy: 0.9985\n",
      "Epoch 11/30\n",
      "27/27 [==============================] - 6s 232ms/step - loss: 0.2472 - accuracy: 0.9341 - top-5-accuracy: 0.9935 - val_loss: 0.0897 - val_accuracy: 0.9773 - val_top-5-accuracy: 0.9985\n",
      "Epoch 12/30\n",
      "27/27 [==============================] - 6s 235ms/step - loss: 0.2388 - accuracy: 0.9372 - top-5-accuracy: 0.9939 - val_loss: 0.0939 - val_accuracy: 0.9742 - val_top-5-accuracy: 0.9982\n",
      "Epoch 13/30\n",
      "27/27 [==============================] - 6s 237ms/step - loss: 0.2114 - accuracy: 0.9439 - top-5-accuracy: 0.9949 - val_loss: 0.0877 - val_accuracy: 0.9772 - val_top-5-accuracy: 0.9990\n",
      "Epoch 14/30\n",
      "27/27 [==============================] - 6s 236ms/step - loss: 0.2008 - accuracy: 0.9460 - top-5-accuracy: 0.9954 - val_loss: 0.0824 - val_accuracy: 0.9790 - val_top-5-accuracy: 0.9990\n",
      "Epoch 15/30\n",
      "27/27 [==============================] - 6s 234ms/step - loss: 0.1917 - accuracy: 0.9498 - top-5-accuracy: 0.9960 - val_loss: 0.1152 - val_accuracy: 0.9695 - val_top-5-accuracy: 0.9985\n",
      "Epoch 16/30\n",
      "27/27 [==============================] - 6s 234ms/step - loss: 0.1902 - accuracy: 0.9491 - top-5-accuracy: 0.9958 - val_loss: 0.0774 - val_accuracy: 0.9800 - val_top-5-accuracy: 0.9988\n",
      "Epoch 17/30\n",
      "27/27 [==============================] - 6s 234ms/step - loss: 0.1728 - accuracy: 0.9532 - top-5-accuracy: 0.9965 - val_loss: 0.0709 - val_accuracy: 0.9808 - val_top-5-accuracy: 0.9995\n",
      "Epoch 18/30\n",
      "27/27 [==============================] - 6s 233ms/step - loss: 0.1649 - accuracy: 0.9548 - top-5-accuracy: 0.9965 - val_loss: 0.0757 - val_accuracy: 0.9820 - val_top-5-accuracy: 0.9982\n",
      "Epoch 19/30\n",
      "27/27 [==============================] - 6s 237ms/step - loss: 0.1540 - accuracy: 0.9576 - top-5-accuracy: 0.9972 - val_loss: 0.0668 - val_accuracy: 0.9823 - val_top-5-accuracy: 0.9987\n",
      "Epoch 20/30\n",
      "27/27 [==============================] - 6s 236ms/step - loss: 0.1531 - accuracy: 0.9595 - top-5-accuracy: 0.9971 - val_loss: 0.1113 - val_accuracy: 0.9713 - val_top-5-accuracy: 0.9978\n",
      "Epoch 21/30\n",
      "27/27 [==============================] - 6s 236ms/step - loss: 0.1453 - accuracy: 0.9610 - top-5-accuracy: 0.9974 - val_loss: 0.0928 - val_accuracy: 0.9787 - val_top-5-accuracy: 0.9983\n",
      "Epoch 22/30\n",
      "27/27 [==============================] - 6s 235ms/step - loss: 0.1389 - accuracy: 0.9623 - top-5-accuracy: 0.9975 - val_loss: 0.0638 - val_accuracy: 0.9855 - val_top-5-accuracy: 0.9992\n",
      "Epoch 23/30\n",
      "27/27 [==============================] - 6s 234ms/step - loss: 0.1312 - accuracy: 0.9644 - top-5-accuracy: 0.9977 - val_loss: 0.0683 - val_accuracy: 0.9820 - val_top-5-accuracy: 0.9987\n",
      "Epoch 24/30\n",
      "27/27 [==============================] - 6s 236ms/step - loss: 0.1273 - accuracy: 0.9649 - top-5-accuracy: 0.9982 - val_loss: 0.0666 - val_accuracy: 0.9845 - val_top-5-accuracy: 0.9990\n",
      "Epoch 25/30\n",
      "27/27 [==============================] - 6s 234ms/step - loss: 0.1196 - accuracy: 0.9670 - top-5-accuracy: 0.9982 - val_loss: 0.0650 - val_accuracy: 0.9845 - val_top-5-accuracy: 0.9987\n",
      "Epoch 26/30\n",
      "27/27 [==============================] - 6s 236ms/step - loss: 0.1247 - accuracy: 0.9663 - top-5-accuracy: 0.9981 - val_loss: 0.0554 - val_accuracy: 0.9853 - val_top-5-accuracy: 1.0000\n",
      "Epoch 27/30\n",
      "27/27 [==============================] - 6s 236ms/step - loss: 0.1163 - accuracy: 0.9680 - top-5-accuracy: 0.9983 - val_loss: 0.0639 - val_accuracy: 0.9833 - val_top-5-accuracy: 0.9998\n",
      "Epoch 28/30\n",
      "27/27 [==============================] - 6s 233ms/step - loss: 0.1055 - accuracy: 0.9706 - top-5-accuracy: 0.9983 - val_loss: 0.0640 - val_accuracy: 0.9837 - val_top-5-accuracy: 0.9990\n",
      "Epoch 29/30\n",
      "27/27 [==============================] - 6s 234ms/step - loss: 0.1171 - accuracy: 0.9692 - top-5-accuracy: 0.9982 - val_loss: 0.0620 - val_accuracy: 0.9833 - val_top-5-accuracy: 0.9985\n",
      "Epoch 30/30\n",
      "27/27 [==============================] - 6s 236ms/step - loss: 0.1067 - accuracy: 0.9700 - top-5-accuracy: 0.9983 - val_loss: 0.0606 - val_accuracy: 0.9843 - val_top-5-accuracy: 0.9992\n"
     ]
    },
    {
     "ename": "InvalidArgumentError",
     "evalue": "Graph execution error:\n\nDetected at node model_7/positional_embeddings_and_encoder_7/dense_228/Tensordot/Reshape defined at (most recent call last):\n  File \"<frozen runpy>\", line 198, in _run_module_as_main\n\n  File \"<frozen runpy>\", line 88, in _run_code\n\n  File \"/usr/local/lib/python3.11/dist-packages/ipykernel_launcher.py\", line 17, in <module>\n\n  File \"/usr/local/lib/python3.11/dist-packages/traitlets/config/application.py\", line 1075, in launch_instance\n\n  File \"/usr/local/lib/python3.11/dist-packages/ipykernel/kernelapp.py\", line 739, in start\n\n  File \"/usr/local/lib/python3.11/dist-packages/tornado/platform/asyncio.py\", line 205, in start\n\n  File \"/usr/lib/python3.11/asyncio/base_events.py\", line 607, in run_forever\n\n  File \"/usr/lib/python3.11/asyncio/base_events.py\", line 1922, in _run_once\n\n  File \"/usr/lib/python3.11/asyncio/events.py\", line 80, in _run\n\n  File \"/usr/local/lib/python3.11/dist-packages/ipykernel/kernelbase.py\", line 542, in dispatch_queue\n\n  File \"/usr/local/lib/python3.11/dist-packages/ipykernel/kernelbase.py\", line 531, in process_one\n\n  File \"/usr/local/lib/python3.11/dist-packages/ipykernel/kernelbase.py\", line 437, in dispatch_shell\n\n  File \"/usr/local/lib/python3.11/dist-packages/ipykernel/ipkernel.py\", line 359, in execute_request\n\n  File \"/usr/local/lib/python3.11/dist-packages/ipykernel/kernelbase.py\", line 775, in execute_request\n\n  File \"/usr/local/lib/python3.11/dist-packages/ipykernel/ipkernel.py\", line 446, in do_execute\n\n  File \"/usr/local/lib/python3.11/dist-packages/ipykernel/zmqshell.py\", line 549, in run_cell\n\n  File \"/usr/local/lib/python3.11/dist-packages/IPython/core/interactiveshell.py\", line 3051, in run_cell\n\n  File \"/usr/local/lib/python3.11/dist-packages/IPython/core/interactiveshell.py\", line 3106, in _run_cell\n\n  File \"/usr/local/lib/python3.11/dist-packages/IPython/core/async_helpers.py\", line 129, in _pseudo_sync_runner\n\n  File \"/usr/local/lib/python3.11/dist-packages/IPython/core/interactiveshell.py\", line 3311, in run_cell_async\n\n  File \"/usr/local/lib/python3.11/dist-packages/IPython/core/interactiveshell.py\", line 3493, in run_ast_nodes\n\n  File \"/usr/local/lib/python3.11/dist-packages/IPython/core/interactiveshell.py\", line 3553, in run_code\n\n  File \"/tmp/ipykernel_41/3201875517.py\", line 2, in <module>\n\n  File \"/tmp/ipykernel_41/1331449763.py\", line 15, in runModel\n\n  File \"/usr/local/lib/python3.11/dist-packages/keras/src/utils/traceback_utils.py\", line 65, in error_handler\n\n  File \"/usr/local/lib/python3.11/dist-packages/keras/src/engine/training.py\", line 2296, in evaluate\n\n  File \"/usr/local/lib/python3.11/dist-packages/keras/src/engine/training.py\", line 4108, in run_step\n\n  File \"/usr/local/lib/python3.11/dist-packages/keras/src/engine/training.py\", line 2066, in test_function\n\n  File \"/usr/local/lib/python3.11/dist-packages/keras/src/engine/training.py\", line 2049, in step_function\n\n  File \"/usr/local/lib/python3.11/dist-packages/keras/src/engine/training.py\", line 2037, in run_step\n\n  File \"/usr/local/lib/python3.11/dist-packages/keras/src/engine/training.py\", line 1917, in test_step\n\n  File \"/usr/local/lib/python3.11/dist-packages/keras/src/utils/traceback_utils.py\", line 65, in error_handler\n\n  File \"/usr/local/lib/python3.11/dist-packages/keras/src/engine/training.py\", line 590, in __call__\n\n  File \"/usr/local/lib/python3.11/dist-packages/keras/src/utils/traceback_utils.py\", line 65, in error_handler\n\n  File \"/usr/local/lib/python3.11/dist-packages/keras/src/engine/base_layer.py\", line 1149, in __call__\n\n  File \"/usr/local/lib/python3.11/dist-packages/keras/src/utils/traceback_utils.py\", line 96, in error_handler\n\n  File \"/usr/local/lib/python3.11/dist-packages/keras/src/engine/functional.py\", line 515, in call\n\n  File \"/usr/local/lib/python3.11/dist-packages/keras/src/engine/functional.py\", line 672, in _run_internal_graph\n\n  File \"/usr/local/lib/python3.11/dist-packages/keras/src/utils/traceback_utils.py\", line 65, in error_handler\n\n  File \"/usr/local/lib/python3.11/dist-packages/keras/src/engine/base_layer.py\", line 1149, in __call__\n\n  File \"/usr/local/lib/python3.11/dist-packages/keras/src/utils/traceback_utils.py\", line 96, in error_handler\n\n  File \"/tmp/ipykernel_41/1141032490.py\", line 38, in call\n\n  File \"/usr/local/lib/python3.11/dist-packages/keras/src/utils/traceback_utils.py\", line 65, in error_handler\n\n  File \"/usr/local/lib/python3.11/dist-packages/keras/src/engine/base_layer.py\", line 1149, in __call__\n\n  File \"/usr/local/lib/python3.11/dist-packages/keras/src/utils/traceback_utils.py\", line 96, in error_handler\n\n  File \"/usr/local/lib/python3.11/dist-packages/keras/src/layers/core/dense.py\", line 244, in call\n\nInput to reshape is a tensor with 25088 values, but the requested shape has 1568000\n\t [[{{node model_7/positional_embeddings_and_encoder_7/dense_228/Tensordot/Reshape}}]] [Op:__inference_test_function_344283]",
     "output_type": "error",
     "traceback": [
      "\u001b[0;31m---------------------------------------------------------------------------\u001b[0m",
      "\u001b[0;31mInvalidArgumentError\u001b[0m                      Traceback (most recent call last)",
      "Cell \u001b[0;32mIn[33], line 2\u001b[0m\n\u001b[1;32m      1\u001b[0m vit_classifier \u001b[38;5;241m=\u001b[39m VisionTransformer()\n\u001b[0;32m----> 2\u001b[0m history \u001b[38;5;241m=\u001b[39m \u001b[43mrunModel\u001b[49m\u001b[43m(\u001b[49m\u001b[43mvit_classifier\u001b[49m\u001b[43m)\u001b[49m\n\u001b[1;32m      5\u001b[0m \u001b[38;5;28;01mdef\u001b[39;00m \u001b[38;5;21mplot_history\u001b[39m(item):\n\u001b[1;32m      6\u001b[0m     plt\u001b[38;5;241m.\u001b[39mplot(history\u001b[38;5;241m.\u001b[39mhistory[item], label\u001b[38;5;241m=\u001b[39mitem)\n",
      "Cell \u001b[0;32mIn[32], line 15\u001b[0m, in \u001b[0;36mrunModel\u001b[0;34m(model)\u001b[0m\n\u001b[1;32m     12\u001b[0m history \u001b[38;5;241m=\u001b[39m model\u001b[38;5;241m.\u001b[39mfit(x\u001b[38;5;241m=\u001b[39mx_train,y\u001b[38;5;241m=\u001b[39my_train,batch_size\u001b[38;5;241m=\u001b[39mbatch_size,epochs\u001b[38;5;241m=\u001b[39mnum_epochs,validation_split\u001b[38;5;241m=\u001b[39m\u001b[38;5;241m0.1\u001b[39m,callbacks\u001b[38;5;241m=\u001b[39m[network_callback])\n\u001b[1;32m     14\u001b[0m model\u001b[38;5;241m.\u001b[39mload_weights(checkpoint_path)\n\u001b[0;32m---> 15\u001b[0m accuracy \u001b[38;5;241m=\u001b[39m \u001b[43mmodel\u001b[49m\u001b[38;5;241;43m.\u001b[39;49m\u001b[43mevaluate\u001b[49m\u001b[43m(\u001b[49m\u001b[43mx_test\u001b[49m\u001b[43m,\u001b[49m\u001b[43m \u001b[49m\u001b[43my_test\u001b[49m\u001b[43m)\u001b[49m\n\u001b[1;32m     16\u001b[0m \u001b[38;5;28mprint\u001b[39m(\u001b[38;5;124m\"\u001b[39m\u001b[38;5;124mtesting set accuracy\u001b[39m\u001b[38;5;124m\"\u001b[39m)\n\u001b[1;32m     17\u001b[0m \u001b[38;5;28mprint\u001b[39m(accuracy)\n",
      "File \u001b[0;32m/usr/local/lib/python3.11/dist-packages/keras/src/utils/traceback_utils.py:70\u001b[0m, in \u001b[0;36mfilter_traceback.<locals>.error_handler\u001b[0;34m(*args, **kwargs)\u001b[0m\n\u001b[1;32m     67\u001b[0m     filtered_tb \u001b[38;5;241m=\u001b[39m _process_traceback_frames(e\u001b[38;5;241m.\u001b[39m__traceback__)\n\u001b[1;32m     68\u001b[0m     \u001b[38;5;66;03m# To get the full stack trace, call:\u001b[39;00m\n\u001b[1;32m     69\u001b[0m     \u001b[38;5;66;03m# `tf.debugging.disable_traceback_filtering()`\u001b[39;00m\n\u001b[0;32m---> 70\u001b[0m     \u001b[38;5;28;01mraise\u001b[39;00m e\u001b[38;5;241m.\u001b[39mwith_traceback(filtered_tb) \u001b[38;5;28;01mfrom\u001b[39;00m \u001b[38;5;28;01mNone\u001b[39;00m\n\u001b[1;32m     71\u001b[0m \u001b[38;5;28;01mfinally\u001b[39;00m:\n\u001b[1;32m     72\u001b[0m     \u001b[38;5;28;01mdel\u001b[39;00m filtered_tb\n",
      "File \u001b[0;32m/usr/local/lib/python3.11/dist-packages/tensorflow/python/eager/execute.py:53\u001b[0m, in \u001b[0;36mquick_execute\u001b[0;34m(op_name, num_outputs, inputs, attrs, ctx, name)\u001b[0m\n\u001b[1;32m     51\u001b[0m \u001b[38;5;28;01mtry\u001b[39;00m:\n\u001b[1;32m     52\u001b[0m   ctx\u001b[38;5;241m.\u001b[39mensure_initialized()\n\u001b[0;32m---> 53\u001b[0m   tensors \u001b[38;5;241m=\u001b[39m pywrap_tfe\u001b[38;5;241m.\u001b[39mTFE_Py_Execute(ctx\u001b[38;5;241m.\u001b[39m_handle, device_name, op_name,\n\u001b[1;32m     54\u001b[0m                                       inputs, attrs, num_outputs)\n\u001b[1;32m     55\u001b[0m \u001b[38;5;28;01mexcept\u001b[39;00m core\u001b[38;5;241m.\u001b[39m_NotOkStatusException \u001b[38;5;28;01mas\u001b[39;00m e:\n\u001b[1;32m     56\u001b[0m   \u001b[38;5;28;01mif\u001b[39;00m name \u001b[38;5;129;01mis\u001b[39;00m \u001b[38;5;129;01mnot\u001b[39;00m \u001b[38;5;28;01mNone\u001b[39;00m:\n",
      "\u001b[0;31mInvalidArgumentError\u001b[0m: Graph execution error:\n\nDetected at node model_7/positional_embeddings_and_encoder_7/dense_228/Tensordot/Reshape defined at (most recent call last):\n  File \"<frozen runpy>\", line 198, in _run_module_as_main\n\n  File \"<frozen runpy>\", line 88, in _run_code\n\n  File \"/usr/local/lib/python3.11/dist-packages/ipykernel_launcher.py\", line 17, in <module>\n\n  File \"/usr/local/lib/python3.11/dist-packages/traitlets/config/application.py\", line 1075, in launch_instance\n\n  File \"/usr/local/lib/python3.11/dist-packages/ipykernel/kernelapp.py\", line 739, in start\n\n  File \"/usr/local/lib/python3.11/dist-packages/tornado/platform/asyncio.py\", line 205, in start\n\n  File \"/usr/lib/python3.11/asyncio/base_events.py\", line 607, in run_forever\n\n  File \"/usr/lib/python3.11/asyncio/base_events.py\", line 1922, in _run_once\n\n  File \"/usr/lib/python3.11/asyncio/events.py\", line 80, in _run\n\n  File \"/usr/local/lib/python3.11/dist-packages/ipykernel/kernelbase.py\", line 542, in dispatch_queue\n\n  File \"/usr/local/lib/python3.11/dist-packages/ipykernel/kernelbase.py\", line 531, in process_one\n\n  File \"/usr/local/lib/python3.11/dist-packages/ipykernel/kernelbase.py\", line 437, in dispatch_shell\n\n  File \"/usr/local/lib/python3.11/dist-packages/ipykernel/ipkernel.py\", line 359, in execute_request\n\n  File \"/usr/local/lib/python3.11/dist-packages/ipykernel/kernelbase.py\", line 775, in execute_request\n\n  File \"/usr/local/lib/python3.11/dist-packages/ipykernel/ipkernel.py\", line 446, in do_execute\n\n  File \"/usr/local/lib/python3.11/dist-packages/ipykernel/zmqshell.py\", line 549, in run_cell\n\n  File \"/usr/local/lib/python3.11/dist-packages/IPython/core/interactiveshell.py\", line 3051, in run_cell\n\n  File \"/usr/local/lib/python3.11/dist-packages/IPython/core/interactiveshell.py\", line 3106, in _run_cell\n\n  File \"/usr/local/lib/python3.11/dist-packages/IPython/core/async_helpers.py\", line 129, in _pseudo_sync_runner\n\n  File \"/usr/local/lib/python3.11/dist-packages/IPython/core/interactiveshell.py\", line 3311, in run_cell_async\n\n  File \"/usr/local/lib/python3.11/dist-packages/IPython/core/interactiveshell.py\", line 3493, in run_ast_nodes\n\n  File \"/usr/local/lib/python3.11/dist-packages/IPython/core/interactiveshell.py\", line 3553, in run_code\n\n  File \"/tmp/ipykernel_41/3201875517.py\", line 2, in <module>\n\n  File \"/tmp/ipykernel_41/1331449763.py\", line 15, in runModel\n\n  File \"/usr/local/lib/python3.11/dist-packages/keras/src/utils/traceback_utils.py\", line 65, in error_handler\n\n  File \"/usr/local/lib/python3.11/dist-packages/keras/src/engine/training.py\", line 2296, in evaluate\n\n  File \"/usr/local/lib/python3.11/dist-packages/keras/src/engine/training.py\", line 4108, in run_step\n\n  File \"/usr/local/lib/python3.11/dist-packages/keras/src/engine/training.py\", line 2066, in test_function\n\n  File \"/usr/local/lib/python3.11/dist-packages/keras/src/engine/training.py\", line 2049, in step_function\n\n  File \"/usr/local/lib/python3.11/dist-packages/keras/src/engine/training.py\", line 2037, in run_step\n\n  File \"/usr/local/lib/python3.11/dist-packages/keras/src/engine/training.py\", line 1917, in test_step\n\n  File \"/usr/local/lib/python3.11/dist-packages/keras/src/utils/traceback_utils.py\", line 65, in error_handler\n\n  File \"/usr/local/lib/python3.11/dist-packages/keras/src/engine/training.py\", line 590, in __call__\n\n  File \"/usr/local/lib/python3.11/dist-packages/keras/src/utils/traceback_utils.py\", line 65, in error_handler\n\n  File \"/usr/local/lib/python3.11/dist-packages/keras/src/engine/base_layer.py\", line 1149, in __call__\n\n  File \"/usr/local/lib/python3.11/dist-packages/keras/src/utils/traceback_utils.py\", line 96, in error_handler\n\n  File \"/usr/local/lib/python3.11/dist-packages/keras/src/engine/functional.py\", line 515, in call\n\n  File \"/usr/local/lib/python3.11/dist-packages/keras/src/engine/functional.py\", line 672, in _run_internal_graph\n\n  File \"/usr/local/lib/python3.11/dist-packages/keras/src/utils/traceback_utils.py\", line 65, in error_handler\n\n  File \"/usr/local/lib/python3.11/dist-packages/keras/src/engine/base_layer.py\", line 1149, in __call__\n\n  File \"/usr/local/lib/python3.11/dist-packages/keras/src/utils/traceback_utils.py\", line 96, in error_handler\n\n  File \"/tmp/ipykernel_41/1141032490.py\", line 38, in call\n\n  File \"/usr/local/lib/python3.11/dist-packages/keras/src/utils/traceback_utils.py\", line 65, in error_handler\n\n  File \"/usr/local/lib/python3.11/dist-packages/keras/src/engine/base_layer.py\", line 1149, in __call__\n\n  File \"/usr/local/lib/python3.11/dist-packages/keras/src/utils/traceback_utils.py\", line 96, in error_handler\n\n  File \"/usr/local/lib/python3.11/dist-packages/keras/src/layers/core/dense.py\", line 244, in call\n\nInput to reshape is a tensor with 25088 values, but the requested shape has 1568000\n\t [[{{node model_7/positional_embeddings_and_encoder_7/dense_228/Tensordot/Reshape}}]] [Op:__inference_test_function_344283]"
     ]
    }
   ],
   "source": [
    "vit_classifier = VisionTransformer()\n",
    "history = runModel(vit_classifier)\n",
    "\n",
    "\n",
    "def plot_history(item):\n",
    "    plt.plot(history.history[item], label=item)\n",
    "    plt.plot(history.history[\"val_\" + item], label=\"val_\" + item)\n",
    "    plt.xlabel(\"Epochs\")\n",
    "    plt.ylabel(item)\n",
    "    plt.title(\"Train and Validation {} Over Epochs\".format(item), fontsize=14)\n",
    "    plt.legend()\n",
    "    plt.grid()\n",
    "    plt.show()\n",
    "\n",
    "\n",
    "plot_history(\"loss\")\n",
    "plot_history(\"accuracy\")"
   ]
  }
 ],
 "metadata": {
  "kernelspec": {
   "display_name": "Python 3 (ipykernel)",
   "language": "python",
   "name": "python3"
  },
  "language_info": {
   "codemirror_mode": {
    "name": "ipython",
    "version": 3
   },
   "file_extension": ".py",
   "mimetype": "text/x-python",
   "name": "python",
   "nbconvert_exporter": "python",
   "pygments_lexer": "ipython3",
   "version": "3.11.7"
  }
 },
 "nbformat": 4,
 "nbformat_minor": 4
}
